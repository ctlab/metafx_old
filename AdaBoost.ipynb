{
 "cells": [
  {
   "cell_type": "code",
   "execution_count": 1,
   "id": "shaped-stephen",
   "metadata": {},
   "outputs": [
    {
     "data": {
      "application/javascript": [
       "IPython.notebook.set_autosave_interval(100000)"
      ]
     },
     "metadata": {},
     "output_type": "display_data"
    },
    {
     "name": "stdout",
     "output_type": "stream",
     "text": [
      "Autosaving every 100 seconds\n"
     ]
    }
   ],
   "source": [
    "%autosave 100"
   ]
  },
  {
   "cell_type": "markdown",
   "id": "controversial-offer",
   "metadata": {},
   "source": [
    "Import all neccessary libraries"
   ]
  },
  {
   "cell_type": "code",
   "execution_count": 2,
   "id": "collected-change",
   "metadata": {},
   "outputs": [],
   "source": [
    "import numpy as np\n",
    "import pandas as pd\n",
    "\n",
    "# for PCA\n",
    "import matplotlib.pyplot as plt\n",
    "from sklearn.decomposition import PCA\n",
    "from matplotlib.lines import Line2D\n",
    "\n",
    "# for classification with cross-validation\n",
    "from sklearn.ensemble import AdaBoostClassifier\n",
    "from sklearn.tree import DecisionTreeClassifier\n",
    "from sklearn.model_selection import StratifiedKFold\n",
    "from sklearn.metrics import accuracy_score, confusion_matrix, ConfusionMatrixDisplay"
   ]
  },
  {
   "cell_type": "markdown",
   "id": "separate-neighbor",
   "metadata": {},
   "source": [
    "Define utility functions"
   ]
  },
  {
   "cell_type": "code",
   "execution_count": 3,
   "id": "regular-toilet",
   "metadata": {},
   "outputs": [],
   "source": [
    "def load_dataset():\n",
    "    labels = pd.read_csv(\"data/Class_labels.txt\", sep=\"\\t\", header=0, index_col=1)\n",
    "\n",
    "    df_list = [pd.read_csv(\"features_cd/vectors/\" + file + \".breadth\", header=None, index_col=None) for file in labels.index]\n",
    "    data = pd.concat(df_list, axis=1)\n",
    "    data.columns=labels.index\n",
    "    data_cd = data.T\n",
    "\n",
    "    df_list = [pd.read_csv(\"features_uc/vectors/\" + file + \".breadth\", header=None, index_col=None) for file in labels.index]\n",
    "    data = pd.concat(df_list, axis=1)\n",
    "    data.columns=labels.index\n",
    "    data_uc = data.T\n",
    "    \n",
    "    df_list = [pd.read_csv(\"features_nonibd/vectors/\" + file + \".breadth\", header=None, index_col=None) for file in labels.index]\n",
    "    data = pd.concat(df_list, axis=1)\n",
    "    data.columns=labels.index\n",
    "    data_nonibd = data.T\n",
    "    \n",
    "    data = pd.concat([data_cd, data_uc, data_nonibd], axis=1, ignore_index=True)\n",
    "    lbls = np.array([labels.loc[i, \"group\"] for i in data.index])\n",
    "\n",
    "    return data, lbls"
   ]
  },
  {
   "cell_type": "markdown",
   "id": "martial-scholar",
   "metadata": {},
   "source": [
    "Apply PCA to data"
   ]
  },
  {
   "cell_type": "code",
   "execution_count": 4,
   "id": "protecting-faculty",
   "metadata": {},
   "outputs": [],
   "source": [
    "data, labels = load_dataset()\n",
    "pca = PCA(n_components=2)\n",
    "values = pca.fit_transform(data)"
   ]
  },
  {
   "cell_type": "markdown",
   "id": "helpful-support",
   "metadata": {},
   "source": [
    "Create PCA plot"
   ]
  },
  {
   "cell_type": "code",
   "execution_count": 5,
   "id": "destroyed-perfume",
   "metadata": {},
   "outputs": [
    {
     "data": {
      "image/png": "[encoded data removed]",
      "text/plain": [
       "<Figure size 504x360 with 1 Axes>"
      ]
     },
     "metadata": {
      "needs_background": "light"
     },
     "output_type": "display_data"
    }
   ],
   "source": [
    "colors = dict(zip(['CD', 'UC', 'nonIBD'], ['r', 'b', 'g']))\n",
    "\n",
    "plt.figure(figsize=(7, 5))\n",
    "\n",
    "plt.scatter(values[:, 0], values[:, 1], color=[colors[i] for i in labels])\n",
    "legend_elements = [Line2D([], [], marker='o', color='w', label='CD', markerfacecolor='r', markersize=10),\n",
    "                   Line2D([], [], marker='o', color='w', label='UC', markerfacecolor='b', markersize=10),\n",
    "                   Line2D([], [], marker='o', color='w', label='nonIBD', markerfacecolor='g', markersize=10)]\n",
    "\n",
    "plt.legend(handles=legend_elements)\n",
    "plt.title(\"PCA of Schirmer dataset\")\n",
    "plt.show()"
   ]
  },
  {
   "cell_type": "markdown",
   "id": "animated-instrumentation",
   "metadata": {},
   "source": [
    "PCA shows good separation of samples into three categories.\n",
    "Now let's try to train Random Forest classification model.\n",
    "\n",
    "Firstly, let's deal with 3-class problem and get accuracy using KFold splits."
   ]
  },
  {
   "cell_type": "code",
   "execution_count": 6,
   "id": "d0885f0e",
   "metadata": {},
   "outputs": [
    {
     "data": {
      "image/png": "[encoded data removed]",
      "text/plain": [
       "<Figure size 432x288 with 1 Axes>"
      ]
     },
     "metadata": {
      "needs_background": "light"
     },
     "output_type": "display_data"
    },
    {
     "name": "stdout",
     "output_type": "stream",
     "text": [
      "Accuracy: 0.7\n"
     ]
    }
   ],
   "source": [
    "data, labels = load_dataset()\n",
    "\n",
    "cv = StratifiedKFold(n_splits=5)\n",
    "\n",
    "accs = []\n",
    "y_tests = []\n",
    "y_preds = []\n",
    "\n",
    "for i, (train, test) in enumerate(cv.split(data, labels)):\n",
    "    model = AdaBoostClassifier(base_estimator=DecisionTreeClassifier(max_depth=10), n_estimators=50)\n",
    "    X_train, X_test = data.iloc[train, :], data.iloc[test, :]\n",
    "    y_train, y_test = labels[train], labels[test]\n",
    "    model.fit(X_train, y_train)\n",
    "    y_pred = model.predict(X_test)\n",
    "    \n",
    "    accs.append(accuracy_score(y_test, y_pred))\n",
    "    y_tests.extend(y_test)\n",
    "    y_preds.extend(y_pred)\n",
    "    \n",
    "ConfusionMatrixDisplay.from_predictions(y_tests, y_preds, labels=['CD', 'UC', 'nonIBD'], colorbar=False, cmap='Greens_r')\n",
    "plt.show()\n",
    "    \n",
    "print(\"Accuracy:\", round(accuracy_score(y_tests, y_preds), 2))"
   ]
  },
  {
   "cell_type": "markdown",
   "id": "0a3b980d",
   "metadata": {},
   "source": [
    "Secondly, let's examine in details 2-class IBD vs nonIBD problem"
   ]
  },
  {
   "cell_type": "code",
   "execution_count": 7,
   "id": "7c4f9731",
   "metadata": {},
   "outputs": [
    {
     "data": {
      "image/png": "[encoded data removed]",
      "text/plain": [
       "<Figure size 432x288 with 1 Axes>"
      ]
     },
     "metadata": {
      "needs_background": "light"
     },
     "output_type": "display_data"
    },
    {
     "name": "stdout",
     "output_type": "stream",
     "text": [
      "Accuracy: 0.87\n"
     ]
    }
   ],
   "source": [
    "data, labels = load_dataset()\n",
    "labels = np.where(~np.isin(labels, ['CD', 'UC']), labels, 'IBD')\n",
    "\n",
    "cv = StratifiedKFold(n_splits=5)\n",
    "\n",
    "accs = []\n",
    "y_tests = []\n",
    "y_preds = []\n",
    "\n",
    "for i, (train, test) in enumerate(cv.split(data, labels)):\n",
    "    model = AdaBoostClassifier(base_estimator=DecisionTreeClassifier(max_depth=10), n_estimators=50)\n",
    "    X_train, X_test = data.iloc[train, :], data.iloc[test, :]\n",
    "    y_train, y_test = labels[train], labels[test]\n",
    "    model.fit(X_train, y_train)\n",
    "    y_pred = model.predict(X_test)\n",
    "    \n",
    "    accs.append(accuracy_score(y_test, y_pred))\n",
    "    y_tests.extend(y_test)\n",
    "    y_preds.extend(y_pred)\n",
    "    \n",
    "ConfusionMatrixDisplay.from_predictions(y_tests, y_preds, labels=['IBD', 'nonIBD'], colorbar=False, cmap='Greens_r')\n",
    "plt.show()\n",
    "    \n",
    "print(\"Accuracy:\", round(accuracy_score(y_tests, y_preds), 2))"
   ]
  },
  {
   "cell_type": "markdown",
   "id": "79f7e7d2",
   "metadata": {},
   "source": [
    "Finally, let's examine in details 2-class CD vs UC problem"
   ]
  },
  {
   "cell_type": "code",
   "execution_count": 8,
   "id": "78523785",
   "metadata": {},
   "outputs": [
    {
     "data": {
      "image/png": "[encoded data removed]",
      "text/plain": [
       "<Figure size 432x288 with 1 Axes>"
      ]
     },
     "metadata": {
      "needs_background": "light"
     },
     "output_type": "display_data"
    },
    {
     "name": "stdout",
     "output_type": "stream",
     "text": [
      "Accuracy: 0.72\n"
     ]
    }
   ],
   "source": [
    "data, labels = load_dataset()\n",
    "i = np.where(np.isin(labels, ['CD', 'UC']))[0]\n",
    "data = data.iloc[i, :]\n",
    "labels = labels[i]\n",
    "\n",
    "cv = StratifiedKFold(n_splits=5)\n",
    "\n",
    "accs = []\n",
    "y_tests = []\n",
    "y_preds = []\n",
    "\n",
    "for i, (train, test) in enumerate(cv.split(data, labels)):\n",
    "    model = AdaBoostClassifier(base_estimator=DecisionTreeClassifier(max_depth=10), n_estimators=50)\n",
    "    X_train, X_test = data.iloc[train, :], data.iloc[test, :]\n",
    "    y_train, y_test = labels[train], labels[test]\n",
    "    model.fit(X_train, y_train)\n",
    "    y_pred = model.predict(X_test)\n",
    "    \n",
    "    accs.append(accuracy_score(y_test, y_pred))\n",
    "    y_tests.extend(y_test)\n",
    "    y_preds.extend(y_pred)\n",
    "    \n",
    "ConfusionMatrixDisplay.from_predictions(y_tests, y_preds, labels=['CD', 'UC'], colorbar=False, cmap='Greens_r')\n",
    "plt.show()\n",
    "    \n",
    "print(\"Accuracy:\", round(accuracy_score(y_tests, y_preds), 2))"
   ]
  }
 ],
 "metadata": {
  "kernelspec": {
   "display_name": "Python 3 (ipykernel)",
   "language": "python",
   "name": "python3"
  },
  "language_info": {
   "codemirror_mode": {
    "name": "ipython",
    "version": 3
   },
   "file_extension": ".py",
   "mimetype": "text/x-python",
   "name": "python",
   "nbconvert_exporter": "python",
   "pygments_lexer": "ipython3",
   "version": "3.9.12"
  }
 },
 "nbformat": 4,
 "nbformat_minor": 5
}
